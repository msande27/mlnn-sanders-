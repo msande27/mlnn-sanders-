{
 "cells": [
  {
   "cell_type": "code",
   "execution_count": 2,
   "metadata": {
    "collapsed": true
   },
   "outputs": [],
   "source": [
    "import numpy as np\n",
    "import pandas as pd\n",
    "import scipy as sp"
   ]
  },
  {
   "cell_type": "code",
   "execution_count": 4,
   "metadata": {
    "collapsed": false
   },
   "outputs": [],
   "source": [
    "%matplotlib inline\n",
    "import matplotlib.pyplot as plt\n",
    "plt.style.use('ggplot')"
   ]
  },
  {
   "cell_type": "code",
   "execution_count": 119,
   "metadata": {
    "collapsed": false
   },
   "outputs": [
    {
     "name": "stdout",
     "output_type": "stream",
     "text": [
      "Overwriting hw_data.csv\n"
     ]
    }
   ],
   "source": [
    "%%file hw_data.csv\n",
    "id,sex,weight,height\n",
    "1,M,190,77\n",
    "2,F,120,70\n",
    "3,F,110,68\n",
    "4,M,150,72\n",
    "5,O,120,66\n",
    "6,M,120,60\n",
    "7,F,140,70"
   ]
  },
  {
   "cell_type": "markdown",
   "metadata": {},
   "source": [
    "# Python"
   ]
  },
  {
   "cell_type": "markdown",
   "metadata": {},
   "source": [
    "## 1. Finish creating the following function that takes a list and returns the average value."
   ]
  },
  {
   "cell_type": "code",
   "execution_count": 89,
   "metadata": {
    "collapsed": false
   },
   "outputs": [
    {
     "data": {
      "text/plain": [
       "3.375"
      ]
     },
     "execution_count": 89,
     "metadata": {},
     "output_type": "execute_result"
    }
   ],
   "source": [
    "import numpy as np\n",
    "import pandas as pd\n",
    "import scipy as sp\n",
    "def average(my_list):\n",
    "    total = 0\n",
    "    for i in my_list:\n",
    "        total+=sum([i])\n",
    "    return total/len(my_list)\n",
    "\n",
    "average([1,2,1,4,3,2,5,9])"
   ]
  },
  {
   "cell_type": "markdown",
   "metadata": {},
   "source": [
    "## 2. Using a Dictionary keep track of the count of numbers (or items) from a list"
   ]
  },
  {
   "cell_type": "code",
   "execution_count": 90,
   "metadata": {
    "collapsed": false
   },
   "outputs": [
    {
     "data": {
      "text/plain": [
       "{1: 2, 2: 2, 3: 1, 4: 1, 5: 1, 9: 1}"
      ]
     },
     "execution_count": 90,
     "metadata": {},
     "output_type": "execute_result"
    }
   ],
   "source": [
    "import numpy as np\n",
    "import pandas as pd\n",
    "import scipy as sp\n",
    "def counts(my_list):\n",
    "    counts = dict()\n",
    "    for i in my_list:\n",
    "        counts[i]=counts.get(i,0)+1\n",
    "    return counts\n",
    "    \n",
    "counts([1,2,1,4,3,2,5,9])    "
   ]
  },
  {
   "cell_type": "markdown",
   "metadata": {},
   "source": [
    "## 3.  Using the `counts()` function and the `.split()` function, return a dictionary of most occuring words from the following paragraph. Bonus, remove punctuation from words."
   ]
  },
  {
   "cell_type": "code",
   "execution_count": 322,
   "metadata": {
    "collapsed": false
   },
   "outputs": [
    {
     "data": {
      "text/plain": [
       "[('For', 3),\n",
       " ('a', 15),\n",
       " ('minute', 1),\n",
       " ('or', 2),\n",
       " ('two', 2),\n",
       " ('she', 6),\n",
       " ('stood', 1),\n",
       " ('looking', 2),\n",
       " ('at', 6),\n",
       " ('the', 32),\n",
       " ('house', 2),\n",
       " ('and', 17),\n",
       " ('wondering', 1),\n",
       " ('what', 2),\n",
       " ('to', 15),\n",
       " ('do', 1),\n",
       " ('next', 2),\n",
       " ('when', 2),\n",
       " ('suddenly', 1),\n",
       " ('a', 15),\n",
       " ('footman', 3),\n",
       " ('in', 9),\n",
       " ('livery', 3),\n",
       " ('came', 2),\n",
       " ('running', 1),\n",
       " ('out', 5),\n",
       " ('of', 9),\n",
       " ('the', 32),\n",
       " ('woodshe', 1),\n",
       " ('considered', 1),\n",
       " ('him', 3),\n",
       " ('to', 15),\n",
       " ('be', 2),\n",
       " ('a', 15),\n",
       " ('footman', 3),\n",
       " ('because', 3),\n",
       " ('he', 5),\n",
       " ('was', 8),\n",
       " ('in', 9),\n",
       " ('livery', 3),\n",
       " ('otherwise', 1),\n",
       " ('judging', 1),\n",
       " ('by', 3),\n",
       " ('his', 6),\n",
       " ('face', 2),\n",
       " ('only', 2),\n",
       " ('she', 6),\n",
       " ('would', 1),\n",
       " ('have', 1),\n",
       " ('called', 1),\n",
       " ('him', 3),\n",
       " ('a', 15),\n",
       " ('fishand', 1),\n",
       " ('rapped', 1),\n",
       " ('loudly', 1),\n",
       " ('at', 6),\n",
       " ('the', 32),\n",
       " ('door', 6),\n",
       " ('with', 2),\n",
       " ('his', 6),\n",
       " ('knuckles', 1),\n",
       " ('It', 1),\n",
       " ('was', 8),\n",
       " ('opened', 2),\n",
       " ('by', 3),\n",
       " ('another', 1),\n",
       " ('footman', 3),\n",
       " ('in', 9),\n",
       " ('livery', 3),\n",
       " ('with', 2),\n",
       " ('a', 15),\n",
       " ('round', 1),\n",
       " ('face', 2),\n",
       " ('and', 17),\n",
       " ('large', 3),\n",
       " ('eyes', 2),\n",
       " ('like', 1),\n",
       " ('a', 15),\n",
       " ('frog', 1),\n",
       " ('and', 17),\n",
       " ('both', 2),\n",
       " ('footmen', 1),\n",
       " ('Alice', 5),\n",
       " ('noticed', 1),\n",
       " ('had', 4),\n",
       " ('powdered', 1),\n",
       " ('hair', 1),\n",
       " ('that', 3),\n",
       " ('curled', 1),\n",
       " ('all', 3),\n",
       " ('over', 2),\n",
       " ('their', 3),\n",
       " ('heads', 1),\n",
       " ('She', 1),\n",
       " ('felt', 1),\n",
       " ('very', 2),\n",
       " ('curious', 1),\n",
       " ('to', 15),\n",
       " ('know', 2),\n",
       " ('what', 2),\n",
       " ('it', 3),\n",
       " ('was', 8),\n",
       " ('all', 3),\n",
       " ('about', 1),\n",
       " ('and', 17),\n",
       " ('crept', 1),\n",
       " ('a', 15),\n",
       " ('little', 2),\n",
       " ('way', 1),\n",
       " ('out', 5),\n",
       " ('of', 9),\n",
       " ('the', 32),\n",
       " ('wood', 2),\n",
       " ('to', 15),\n",
       " ('listen', 1),\n",
       " ('The', 2),\n",
       " ('FishFootman', 2),\n",
       " ('began', 1),\n",
       " ('by', 3),\n",
       " ('producing', 1),\n",
       " ('from', 2),\n",
       " ('under', 1),\n",
       " ('his', 6),\n",
       " ('arm', 1),\n",
       " ('a', 15),\n",
       " ('great', 2),\n",
       " ('letter', 1),\n",
       " ('nearly', 2),\n",
       " ('as', 4),\n",
       " ('large', 3),\n",
       " ('as', 4),\n",
       " ('himself', 1),\n",
       " ('and', 17),\n",
       " ('this', 4),\n",
       " ('he', 5),\n",
       " ('handed', 1),\n",
       " ('over', 2),\n",
       " ('to', 15),\n",
       " ('the', 32),\n",
       " ('other', 2),\n",
       " ('saying', 1),\n",
       " ('in', 9),\n",
       " ('a', 15),\n",
       " ('solemn', 2),\n",
       " ('tone', 2),\n",
       " ('For', 3),\n",
       " ('the', 32),\n",
       " ('Duchess', 2),\n",
       " ('An', 2),\n",
       " ('invitation', 2),\n",
       " ('from', 2),\n",
       " ('the', 32),\n",
       " ('Queen', 2),\n",
       " ('to', 15),\n",
       " ('play', 2),\n",
       " ('croquet', 2),\n",
       " ('The', 2),\n",
       " ('FrogFootman', 1),\n",
       " ('repeated', 2),\n",
       " ('in', 9),\n",
       " ('the', 32),\n",
       " ('same', 2),\n",
       " ('solemn', 2),\n",
       " ('tone', 2),\n",
       " ('only', 2),\n",
       " ('changing', 1),\n",
       " ('the', 32),\n",
       " ('order', 1),\n",
       " ('of', 9),\n",
       " ('the', 32),\n",
       " ('words', 1),\n",
       " ('a', 15),\n",
       " ('little', 2),\n",
       " ('From', 1),\n",
       " ('the', 32),\n",
       " ('Queen', 2),\n",
       " ('An', 2),\n",
       " ('invitation', 2),\n",
       " ('for', 3),\n",
       " ('the', 32),\n",
       " ('Duchess', 2),\n",
       " ('to', 15),\n",
       " ('play', 2),\n",
       " ('croquet', 2),\n",
       " ('Then', 1),\n",
       " ('they', 1),\n",
       " ('both', 2),\n",
       " ('bowed', 1),\n",
       " ('low', 1),\n",
       " ('and', 17),\n",
       " ('their', 3),\n",
       " ('curls', 1),\n",
       " ('got', 1),\n",
       " ('entangled', 1),\n",
       " ('together', 1),\n",
       " ('Alice', 5),\n",
       " ('laughed', 1),\n",
       " ('so', 2),\n",
       " ('much', 1),\n",
       " ('at', 6),\n",
       " ('this', 4),\n",
       " ('that', 3),\n",
       " ('she', 6),\n",
       " ('had', 4),\n",
       " ('to', 15),\n",
       " ('run', 1),\n",
       " ('back', 1),\n",
       " ('into', 3),\n",
       " ('the', 32),\n",
       " ('wood', 2),\n",
       " ('for', 3),\n",
       " ('fear', 1),\n",
       " ('of', 9),\n",
       " ('their', 3),\n",
       " ('hearing', 1),\n",
       " ('her', 2),\n",
       " ('and', 17),\n",
       " ('when', 2),\n",
       " ('she', 6),\n",
       " ('next', 2),\n",
       " ('peeped', 1),\n",
       " ('out', 5),\n",
       " ('the', 32),\n",
       " ('FishFootman', 2),\n",
       " ('was', 8),\n",
       " ('gone', 1),\n",
       " ('and', 17),\n",
       " ('the', 32),\n",
       " ('other', 2),\n",
       " ('was', 8),\n",
       " ('sitting', 1),\n",
       " ('on', 4),\n",
       " ('the', 32),\n",
       " ('ground', 1),\n",
       " ('near', 1),\n",
       " ('the', 32),\n",
       " ('door', 6),\n",
       " ('staring', 1),\n",
       " ('stupidly', 1),\n",
       " ('up', 3),\n",
       " ('into', 3),\n",
       " ('the', 32),\n",
       " ('sky', 2),\n",
       " ('Alice', 5),\n",
       " ('went', 2),\n",
       " ('timidly', 1),\n",
       " ('up', 3),\n",
       " ('to', 15),\n",
       " ('the', 32),\n",
       " ('door', 6),\n",
       " ('and', 17),\n",
       " ('knocked', 1),\n",
       " ('Theres', 1),\n",
       " ('no', 2),\n",
       " ('sort', 1),\n",
       " ('of', 9),\n",
       " ('use', 1),\n",
       " ('in', 9),\n",
       " ('knocking', 2),\n",
       " ('said', 3),\n",
       " ('the', 32),\n",
       " ('Footman', 3),\n",
       " ('and', 17),\n",
       " ('that', 3),\n",
       " ('for', 3),\n",
       " ('two', 2),\n",
       " ('reasons', 1),\n",
       " ('First', 1),\n",
       " ('because', 3),\n",
       " ('Im', 1),\n",
       " ('on', 4),\n",
       " ('the', 32),\n",
       " ('same', 2),\n",
       " ('side', 1),\n",
       " ('of', 9),\n",
       " ('the', 32),\n",
       " ('door', 6),\n",
       " ('as', 4),\n",
       " ('you', 6),\n",
       " ('are', 2),\n",
       " ('secondly', 1),\n",
       " ('because', 3),\n",
       " ('theyre', 1),\n",
       " ('making', 1),\n",
       " ('such', 1),\n",
       " ('a', 15),\n",
       " ('noise', 2),\n",
       " ('inside', 2),\n",
       " ('no', 2),\n",
       " ('one', 2),\n",
       " ('could', 2),\n",
       " ('possibly', 1),\n",
       " ('hear', 1),\n",
       " ('you', 6),\n",
       " ('And', 1),\n",
       " ('certainly', 1),\n",
       " ('there', 1),\n",
       " ('was', 8),\n",
       " ('a', 15),\n",
       " ('most', 1),\n",
       " ('extraordinary', 1),\n",
       " ('noise', 2),\n",
       " ('going', 1),\n",
       " ('on', 4),\n",
       " ('withina', 1),\n",
       " ('constant', 1),\n",
       " ('howling', 1),\n",
       " ('and', 17),\n",
       " ('sneezing', 1),\n",
       " ('and', 17),\n",
       " ('every', 1),\n",
       " ('now', 1),\n",
       " ('and', 17),\n",
       " ('then', 2),\n",
       " ('a', 15),\n",
       " ('great', 2),\n",
       " ('crash', 1),\n",
       " ('as', 4),\n",
       " ('if', 3),\n",
       " ('a', 15),\n",
       " ('dish', 1),\n",
       " ('or', 2),\n",
       " ('kettle', 1),\n",
       " ('had', 4),\n",
       " ('been', 1),\n",
       " ('broken', 1),\n",
       " ('to', 15),\n",
       " ('pieces', 2),\n",
       " ('Please', 1),\n",
       " ('then', 2),\n",
       " ('said', 3),\n",
       " ('Alice', 5),\n",
       " ('how', 1),\n",
       " ('am', 2),\n",
       " ('I', 4),\n",
       " ('to', 15),\n",
       " ('get', 2),\n",
       " ('in', 9),\n",
       " ('There', 1),\n",
       " ('might', 3),\n",
       " ('be', 2),\n",
       " ('some', 1),\n",
       " ('sense', 1),\n",
       " ('in', 9),\n",
       " ('your', 1),\n",
       " ('knocking', 2),\n",
       " ('the', 32),\n",
       " ('Footman', 3),\n",
       " ('went', 2),\n",
       " ('on', 4),\n",
       " ('without', 1),\n",
       " ('attending', 1),\n",
       " ('to', 15),\n",
       " ('her', 2),\n",
       " ('if', 3),\n",
       " ('we', 1),\n",
       " ('had', 4),\n",
       " ('the', 32),\n",
       " ('door', 6),\n",
       " ('between', 1),\n",
       " ('us', 1),\n",
       " ('For', 3),\n",
       " ('instance', 1),\n",
       " ('if', 3),\n",
       " ('you', 6),\n",
       " ('were', 1),\n",
       " ('inside', 2),\n",
       " ('you', 6),\n",
       " ('might', 3),\n",
       " ('knock', 1),\n",
       " ('and', 17),\n",
       " ('I', 4),\n",
       " ('could', 2),\n",
       " ('let', 1),\n",
       " ('you', 6),\n",
       " ('out', 5),\n",
       " ('you', 6),\n",
       " ('know', 2),\n",
       " ('He', 1),\n",
       " ('was', 8),\n",
       " ('looking', 2),\n",
       " ('up', 3),\n",
       " ('into', 3),\n",
       " ('the', 32),\n",
       " ('sky', 2),\n",
       " ('all', 3),\n",
       " ('the', 32),\n",
       " ('time', 1),\n",
       " ('he', 5),\n",
       " ('was', 8),\n",
       " ('speaking', 1),\n",
       " ('and', 17),\n",
       " ('this', 4),\n",
       " ('Alice', 5),\n",
       " ('thought', 1),\n",
       " ('decidedly', 1),\n",
       " ('uncivil', 1),\n",
       " ('But', 2),\n",
       " ('perhaps', 1),\n",
       " ('he', 5),\n",
       " ('cant', 1),\n",
       " ('help', 1),\n",
       " ('it', 3),\n",
       " ('she', 6),\n",
       " ('said', 3),\n",
       " ('to', 15),\n",
       " ('herself', 1),\n",
       " ('his', 6),\n",
       " ('eyes', 2),\n",
       " ('are', 2),\n",
       " ('so', 2),\n",
       " ('very', 2),\n",
       " ('nearly', 2),\n",
       " ('at', 6),\n",
       " ('the', 32),\n",
       " ('top', 1),\n",
       " ('of', 9),\n",
       " ('his', 6),\n",
       " ('head', 2),\n",
       " ('But', 2),\n",
       " ('at', 6),\n",
       " ('any', 1),\n",
       " ('rate', 1),\n",
       " ('he', 5),\n",
       " ('might', 3),\n",
       " ('answer', 1),\n",
       " ('questionsHow', 1),\n",
       " ('am', 2),\n",
       " ('I', 4),\n",
       " ('to', 15),\n",
       " ('get', 2),\n",
       " ('in', 9),\n",
       " ('she', 6),\n",
       " ('repeated', 2),\n",
       " ('aloud', 1),\n",
       " ('I', 4),\n",
       " ('shall', 1),\n",
       " ('sit', 1),\n",
       " ('here', 1),\n",
       " ('the', 32),\n",
       " ('Footman', 3),\n",
       " ('remarked', 1),\n",
       " ('till', 1),\n",
       " ('tomorrow', 1),\n",
       " ('At', 1),\n",
       " ('this', 4),\n",
       " ('moment', 1),\n",
       " ('the', 32),\n",
       " ('door', 6),\n",
       " ('of', 9),\n",
       " ('the', 32),\n",
       " ('house', 2),\n",
       " ('opened', 2),\n",
       " ('and', 17),\n",
       " ('a', 15),\n",
       " ('large', 3),\n",
       " ('plate', 1),\n",
       " ('came', 2),\n",
       " ('skimming', 1),\n",
       " ('out', 5),\n",
       " ('straight', 1),\n",
       " ('at', 6),\n",
       " ('the', 32),\n",
       " ('Footmans', 1),\n",
       " ('head', 2),\n",
       " ('it', 3),\n",
       " ('just', 1),\n",
       " ('grazed', 1),\n",
       " ('his', 6),\n",
       " ('nose', 1),\n",
       " ('and', 17),\n",
       " ('broke', 1),\n",
       " ('to', 15),\n",
       " ('pieces', 2),\n",
       " ('against', 1),\n",
       " ('one', 2),\n",
       " ('of', 9),\n",
       " ('the', 32),\n",
       " ('trees', 1),\n",
       " ('behind', 1),\n",
       " ('him', 3)]"
      ]
     },
     "execution_count": 322,
     "metadata": {},
     "output_type": "execute_result"
    }
   ],
   "source": [
    "import numpy as np\n",
    "import pandas as pd\n",
    "import scipy as sp\n",
    "paragraph_text = '''\n",
    "For a minute or two she stood looking at the house, and wondering what to do next, when suddenly a footman in livery came running out of the wood—(she considered him to be a footman because he was in livery: otherwise, judging by his face only, she would have called him a fish)—and rapped loudly at the door with his knuckles. It was opened by another footman in livery, with a round face, and large eyes like a frog; and both footmen, Alice noticed, had powdered hair that curled all over their heads. She felt very curious to know what it was all about, and crept a little way out of the wood to listen.\n",
    "The Fish-Footman began by producing from under his arm a great letter, nearly as large as himself, and this he handed over to the other, saying, in a solemn tone, ‘For the Duchess. An invitation from the Queen to play croquet.’ The Frog-Footman repeated, in the same solemn tone, only changing the order of the words a little, ‘From the Queen. An invitation for the Duchess to play croquet.’\n",
    "Then they both bowed low, and their curls got entangled together.\n",
    "Alice laughed so much at this, that she had to run back into the wood for fear of their hearing her; and when she next peeped out the Fish-Footman was gone, and the other was sitting on the ground near the door, staring stupidly up into the sky.\n",
    "Alice went timidly up to the door, and knocked.\n",
    "‘There’s no sort of use in knocking,’ said the Footman, ‘and that for two reasons. First, because I’m on the same side of the door as you are; secondly, because they’re making such a noise inside, no one could possibly hear you.’ And certainly there was a most extraordinary noise going on within—a constant howling and sneezing, and every now and then a great crash, as if a dish or kettle had been broken to pieces.\n",
    "‘Please, then,’ said Alice, ‘how am I to get in?’\n",
    "‘There might be some sense in your knocking,’ the Footman went on without attending to her, ‘if we had the door between us. For instance, if you were inside, you might knock, and I could let you out, you know.’ He was looking up into the sky all the time he was speaking, and this Alice thought decidedly uncivil. ‘But perhaps he can’t help it,’ she said to herself; ‘his eyes are so very nearly at the top of his head. But at any rate he might answer questions.—How am I to get in?’ she repeated, aloud.\n",
    "‘I shall sit here,’ the Footman remarked, ‘till tomorrow—’\n",
    "At this moment the door of the house opened, and a large plate came skimming out, straight at the Footman’s head: it just grazed his nose, and broke to pieces against one of the trees behind him.'''\n",
    "def stripNonAlphaNum(paragraph_text2):\n",
    "    import re\n",
    "    return re.compile(r'\\W+', re.UNICODE).split(paragraph_text2)\n",
    "wordlist=paragraph_text2.split()\n",
    "wordfreq=[wordlist.count(w) for w in wordlist]\n",
    "list(zip(wordlist,wordfreq))"
   ]
  },
  {
   "cell_type": "markdown",
   "metadata": {},
   "source": [
    "## 4. Read in a file and write each line from the file to a new file Title-ized\n",
    "\n",
    "`This is the first line` ->  `This Is The First Line`\n",
    "\n",
    "Hint: There's a function to do this"
   ]
  },
  {
   "cell_type": "code",
   "execution_count": 114,
   "metadata": {
    "collapsed": false
   },
   "outputs": [],
   "source": [
    "import numpy as np\n",
    "import pandas as pd\n",
    "import scipy as sp\n",
    "from titlecase import titlecase\n",
    "f = open(\"test.txt\")\n",
    "f1 = open(\"test2.txt\", \"a\")\n",
    "for line in f.readlines():\n",
    "    f1.write(titlecase(line))\n",
    "f1.close()\n",
    "f.close()"
   ]
  },
  {
   "cell_type": "markdown",
   "metadata": {},
   "source": [
    "# Numpy"
   ]
  },
  {
   "cell_type": "markdown",
   "metadata": {},
   "source": [
    "## 1. Given a list, find the average using a numpy function. "
   ]
  },
  {
   "cell_type": "code",
   "execution_count": 114,
   "metadata": {
    "collapsed": false
   },
   "outputs": [
    {
     "data": {
      "text/plain": [
       "3.375"
      ]
     },
     "execution_count": 114,
     "metadata": {},
     "output_type": "execute_result"
    }
   ],
   "source": [
    "import numpy as np\n",
    "import pandas as pd\n",
    "import scipy as sp\n",
    "simple_list = [1,2,1,4,3,2,5,9]\n",
    "np.average(simple_list)"
   ]
  },
  {
   "cell_type": "markdown",
   "metadata": {},
   "source": [
    "## 2. Given two lists of Heights and Weights of individual, calculate the BMI of those individuals, without writing a `for-loop`"
   ]
  },
  {
   "cell_type": "code",
   "execution_count": 115,
   "metadata": {
    "collapsed": false
   },
   "outputs": [
    {
     "data": {
      "text/plain": [
       "[29.065926806711587,\n",
       " 27.732299776136855,\n",
       " 30.73941661933242,\n",
       " 24.302134646962234,\n",
       " 25.878873428782683]"
      ]
     },
     "execution_count": 115,
     "metadata": {},
     "output_type": "execute_result"
    }
   ],
   "source": [
    "import numpy as np\n",
    "import pandas as pd\n",
    "import scipy as sp\n",
    "#Assuming height and weight data are cms and kg respectively\n",
    "heights = [174, 173, 173, 175, 171]\n",
    "weights = [88, 83, 92, 74, 77]\n",
    "bmi_1 = weights[0]/((heights[0]/100)*(heights[0]/100))\n",
    "bmi_2 = weights[1]/((heights[1]/100)*(heights[1]/100))\n",
    "bmi_3 = weights[2]/((heights[2]/100)*(heights[2]/100))\n",
    "bmi_4 = weights[3]/((heights[0]/100)*(heights[3]/100))\n",
    "bmi_5 = weights[4]/((heights[0]/100)*(heights[4]/100))\n",
    "bmi = [bmi_1,bmi_2,bmi_3,bmi_4,bmi_5]\n",
    "bmi"
   ]
  },
  {
   "cell_type": "markdown",
   "metadata": {},
   "source": [
    "## 3. Create an array of length 20 filled with random values (between 0 to 1) "
   ]
  },
  {
   "cell_type": "code",
   "execution_count": 116,
   "metadata": {
    "collapsed": false
   },
   "outputs": [
    {
     "data": {
      "text/plain": [
       "array([[ 0.20050738,  0.19917479,  0.56858859,  0.47775977],\n",
       "       [ 0.8409028 ,  0.07712179,  0.99995541,  0.47489113],\n",
       "       [ 0.79872188,  0.66623441,  0.17683868,  0.15744152],\n",
       "       [ 0.92659663,  0.43656263,  0.34073048,  0.88171261],\n",
       "       [ 0.7886819 ,  0.72272616,  0.24618438,  0.99964085]])"
      ]
     },
     "execution_count": 116,
     "metadata": {},
     "output_type": "execute_result"
    }
   ],
   "source": [
    "import numpy as np\n",
    "import pandas as pd\n",
    "import scipy as sp\n",
    "m=np.random.rand(5,4)\n",
    "m"
   ]
  },
  {
   "cell_type": "markdown",
   "metadata": {},
   "source": [
    "## Bonus. 1. Create an array with a large (>1000) length filled with random numbers from different distributions (normal, uniform, etc.). 2. Then, plot a histogram of these values. "
   ]
  },
  {
   "cell_type": "code",
   "execution_count": 117,
   "metadata": {
    "collapsed": false
   },
   "outputs": [
    {
     "data": {
      "image/png": "[encoded data removed]",
      "text/plain": [
       "<matplotlib.figure.Figure at 0x234d736fe10>"
      ]
     },
     "metadata": {},
     "output_type": "display_data"
    }
   ],
   "source": [
    "import numpy as np\n",
    "import pandas as pd\n",
    "import scipy as sp\n",
    "%matplotlib inline\n",
    "import matplotlib.pyplot as plt\n",
    "mu, sigma = 1000, 150\n",
    "x = mu + sigma * np.random.randn(10000)\n",
    "hist, bins = np.histogram(x, bins=1000)\n",
    "width = 0.7 * (bins[1] - bins[0])\n",
    "center = (bins[:-1] + bins[1:]) / 2\n",
    "plt.bar(center, hist, align='center', width=width)\n",
    "plt.show()"
   ]
  },
  {
   "cell_type": "markdown",
   "metadata": {},
   "source": [
    "# Pandas"
   ]
  },
  {
   "cell_type": "markdown",
   "metadata": {},
   "source": [
    "## 1. Read in a CSV () and display all the columns and their respective data types "
   ]
  },
  {
   "cell_type": "code",
   "execution_count": 132,
   "metadata": {
    "collapsed": false
   },
   "outputs": [
    {
     "data": {
      "text/html": [
       "<div>\n",
       "<table border=\"1\" class=\"dataframe\">\n",
       "  <thead>\n",
       "    <tr style=\"text-align: right;\">\n",
       "      <th></th>\n",
       "      <th>id</th>\n",
       "      <th>sex</th>\n",
       "      <th>weight</th>\n",
       "      <th>height</th>\n",
       "    </tr>\n",
       "  </thead>\n",
       "  <tbody>\n",
       "    <tr>\n",
       "      <th>0</th>\n",
       "      <td>1</td>\n",
       "      <td>M</td>\n",
       "      <td>190</td>\n",
       "      <td>77</td>\n",
       "    </tr>\n",
       "    <tr>\n",
       "      <th>1</th>\n",
       "      <td>2</td>\n",
       "      <td>F</td>\n",
       "      <td>120</td>\n",
       "      <td>70</td>\n",
       "    </tr>\n",
       "    <tr>\n",
       "      <th>2</th>\n",
       "      <td>3</td>\n",
       "      <td>F</td>\n",
       "      <td>110</td>\n",
       "      <td>68</td>\n",
       "    </tr>\n",
       "    <tr>\n",
       "      <th>3</th>\n",
       "      <td>4</td>\n",
       "      <td>M</td>\n",
       "      <td>150</td>\n",
       "      <td>72</td>\n",
       "    </tr>\n",
       "    <tr>\n",
       "      <th>4</th>\n",
       "      <td>5</td>\n",
       "      <td>O</td>\n",
       "      <td>120</td>\n",
       "      <td>66</td>\n",
       "    </tr>\n",
       "    <tr>\n",
       "      <th>5</th>\n",
       "      <td>6</td>\n",
       "      <td>M</td>\n",
       "      <td>120</td>\n",
       "      <td>60</td>\n",
       "    </tr>\n",
       "    <tr>\n",
       "      <th>6</th>\n",
       "      <td>7</td>\n",
       "      <td>F</td>\n",
       "      <td>140</td>\n",
       "      <td>70</td>\n",
       "    </tr>\n",
       "  </tbody>\n",
       "</table>\n",
       "</div>"
      ],
      "text/plain": [
       "   id sex  weight  height\n",
       "0   1   M     190      77\n",
       "1   2   F     120      70\n",
       "2   3   F     110      68\n",
       "3   4   M     150      72\n",
       "4   5   O     120      66\n",
       "5   6   M     120      60\n",
       "6   7   F     140      70"
      ]
     },
     "execution_count": 132,
     "metadata": {},
     "output_type": "execute_result"
    }
   ],
   "source": [
    "%matplotlib inline\n",
    "import matplotlib.pyplot as plt\n",
    "import numpy as np\n",
    "import pandas as pd\n",
    "import scipy as sp\n",
    "df = pd.read_csv(\"hw_data.csv\")\n",
    "df"
   ]
  },
  {
   "cell_type": "markdown",
   "metadata": {},
   "source": [
    "## 2. Find the average weight "
   ]
  },
  {
   "cell_type": "code",
   "execution_count": 133,
   "metadata": {
    "collapsed": false
   },
   "outputs": [
    {
     "data": {
      "text/plain": [
       "135.71428571428572"
      ]
     },
     "execution_count": 133,
     "metadata": {},
     "output_type": "execute_result"
    }
   ],
   "source": [
    "%matplotlib inline\n",
    "import matplotlib.pyplot as plt\n",
    "import numpy as np\n",
    "import pandas as pd\n",
    "import scipy as sp\n",
    "df = pd.read_csv(\"hw_data.csv\")\n",
    "df[\"weight\"].mean()"
   ]
  },
  {
   "cell_type": "markdown",
   "metadata": {},
   "source": [
    "## 3. Find the Value Counts on column `sex` "
   ]
  },
  {
   "cell_type": "code",
   "execution_count": 140,
   "metadata": {
    "collapsed": false
   },
   "outputs": [
    {
     "data": {
      "text/plain": [
       "M    3\n",
       "F    3\n",
       "O    1\n",
       "Name: sex, dtype: int64"
      ]
     },
     "execution_count": 140,
     "metadata": {},
     "output_type": "execute_result"
    }
   ],
   "source": [
    "%matplotlib inline\n",
    "import matplotlib.pyplot as plt\n",
    "import numpy as np\n",
    "import pandas as pd\n",
    "import scipy as sp\n",
    "df = pd.read_csv(\"hw_data.csv\")\n",
    "genders = df.sex\n",
    "genders.value_counts()"
   ]
  },
  {
   "cell_type": "markdown",
   "metadata": {},
   "source": [
    "## 4. Plot Height vs. Weight "
   ]
  },
  {
   "cell_type": "code",
   "execution_count": 167,
   "metadata": {
    "collapsed": false
   },
   "outputs": [
    {
     "data": {
      "text/plain": [
       "<matplotlib.axes._subplots.AxesSubplot at 0x234e3e495f8>"
      ]
     },
     "execution_count": 167,
     "metadata": {},
     "output_type": "execute_result"
    },
    {
     "data": {
      "image/png": "[encoded data removed]",
      "text/plain": [
       "<matplotlib.figure.Figure at 0x234e3de1a58>"
      ]
     },
     "metadata": {},
     "output_type": "display_data"
    }
   ],
   "source": [
    "%matplotlib inline\n",
    "import matplotlib.pyplot as plt\n",
    "import numpy as np\n",
    "import pandas as pd\n",
    "import scipy as sp\n",
    "df = pd.read_csv(\"hw_data.csv\")\n",
    "\n",
    "d = {'Height (cm)' : df.height,\n",
    "     'Weight (kg)' : df.weight}\n",
    "\n",
    "df = pd.DataFrame(d)\n",
    "df.plot(style=['o','rx'])\n",
    "\n",
    "#Tried messing with the plot area but wasn't able to figure out the adjustment of the chart"
   ]
  },
  {
   "cell_type": "markdown",
   "metadata": {},
   "source": [
    "## 5. Calculate BMI and save as a new column"
   ]
  },
  {
   "cell_type": "code",
   "execution_count": 202,
   "metadata": {
    "collapsed": false
   },
   "outputs": [
    {
     "data": {
      "text/html": [
       "<div>\n",
       "<table border=\"1\" class=\"dataframe\">\n",
       "  <thead>\n",
       "    <tr style=\"text-align: right;\">\n",
       "      <th></th>\n",
       "      <th>id</th>\n",
       "      <th>sex</th>\n",
       "      <th>weight</th>\n",
       "      <th>height</th>\n",
       "      <th>BMI</th>\n",
       "    </tr>\n",
       "  </thead>\n",
       "  <tbody>\n",
       "    <tr>\n",
       "      <th>0</th>\n",
       "      <td>1</td>\n",
       "      <td>M</td>\n",
       "      <td>190</td>\n",
       "      <td>77</td>\n",
       "      <td>22.528251</td>\n",
       "    </tr>\n",
       "    <tr>\n",
       "      <th>1</th>\n",
       "      <td>2</td>\n",
       "      <td>F</td>\n",
       "      <td>120</td>\n",
       "      <td>70</td>\n",
       "      <td>17.216327</td>\n",
       "    </tr>\n",
       "    <tr>\n",
       "      <th>2</th>\n",
       "      <td>3</td>\n",
       "      <td>F</td>\n",
       "      <td>110</td>\n",
       "      <td>68</td>\n",
       "      <td>16.723616</td>\n",
       "    </tr>\n",
       "    <tr>\n",
       "      <th>3</th>\n",
       "      <td>4</td>\n",
       "      <td>M</td>\n",
       "      <td>150</td>\n",
       "      <td>72</td>\n",
       "      <td>20.341435</td>\n",
       "    </tr>\n",
       "    <tr>\n",
       "      <th>4</th>\n",
       "      <td>5</td>\n",
       "      <td>O</td>\n",
       "      <td>120</td>\n",
       "      <td>66</td>\n",
       "      <td>19.366391</td>\n",
       "    </tr>\n",
       "    <tr>\n",
       "      <th>5</th>\n",
       "      <td>6</td>\n",
       "      <td>M</td>\n",
       "      <td>120</td>\n",
       "      <td>60</td>\n",
       "      <td>23.433333</td>\n",
       "    </tr>\n",
       "    <tr>\n",
       "      <th>6</th>\n",
       "      <td>7</td>\n",
       "      <td>F</td>\n",
       "      <td>140</td>\n",
       "      <td>70</td>\n",
       "      <td>20.085714</td>\n",
       "    </tr>\n",
       "  </tbody>\n",
       "</table>\n",
       "</div>"
      ],
      "text/plain": [
       "   id sex  weight  height        BMI\n",
       "0   1   M     190      77  22.528251\n",
       "1   2   F     120      70  17.216327\n",
       "2   3   F     110      68  16.723616\n",
       "3   4   M     150      72  20.341435\n",
       "4   5   O     120      66  19.366391\n",
       "5   6   M     120      60  23.433333\n",
       "6   7   F     140      70  20.085714"
      ]
     },
     "execution_count": 202,
     "metadata": {},
     "output_type": "execute_result"
    }
   ],
   "source": [
    "%matplotlib inline\n",
    "import matplotlib.pyplot as plt\n",
    "import numpy as np\n",
    "import pandas as pd\n",
    "import scipy as sp\n",
    "df = pd.read_csv(\"hw_data.csv\")\n",
    "df['BMI']=bmi=(df.weight*703)/(df.height*df.height)\n",
    "df"
   ]
  },
  {
   "cell_type": "markdown",
   "metadata": {},
   "source": [
    "## 6. Save sheet as a new CSV file `hw_dataB.csv`"
   ]
  },
  {
   "cell_type": "code",
   "execution_count": 205,
   "metadata": {
    "collapsed": true
   },
   "outputs": [],
   "source": [
    "#included new BMI portion from Q5\n",
    "\n",
    "%matplotlib inline\n",
    "import matplotlib.pyplot as plt\n",
    "import numpy as np\n",
    "import pandas as pd\n",
    "import scipy as sp\n",
    "df = pd.read_csv(\"hw_data.csv\")\n",
    "df['BMI']=bmi=(df.weight*703)/(df.height*df.height)\n",
    "df.to_csv('hw_dataB.csv')"
   ]
  },
  {
   "cell_type": "markdown",
   "metadata": {},
   "source": [
    "## Run the following"
   ]
  },
  {
   "cell_type": "code",
   "execution_count": 206,
   "metadata": {
    "collapsed": false
   },
   "outputs": [
    {
     "name": "stdout",
     "output_type": "stream",
     "text": [
      ",id,sex,weight,height,BMI\n",
      "0,1,M,190,77,22.528250969809413\n",
      "1,2,F,120,70,17.216326530612246\n",
      "2,3,F,110,68,16.723615916955016\n",
      "3,4,M,150,72,20.341435185185187\n",
      "4,5,O,120,66,19.366391184573004\n",
      "5,6,M,120,60,23.433333333333334\n",
      "6,7,F,140,70,20.085714285714285\n"
     ]
    }
   ],
   "source": [
    "!cat hw_dataB.csv"
   ]
  }
 ],
 "metadata": {
  "kernelspec": {
   "display_name": "Python 3",
   "language": "python",
   "name": "python3"
  },
  "language_info": {
   "codemirror_mode": {
    "name": "ipython",
    "version": 3
   },
   "file_extension": ".py",
   "mimetype": "text/x-python",
   "name": "python",
   "nbconvert_exporter": "python",
   "pygments_lexer": "ipython3",
   "version": "3.6.0"
  }
 },
 "nbformat": 4,
 "nbformat_minor": 1
}
